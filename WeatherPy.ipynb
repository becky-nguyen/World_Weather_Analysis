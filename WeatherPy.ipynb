{
 "cells": [
  {
   "cell_type": "code",
   "execution_count": 7,
   "id": "926c6152",
   "metadata": {},
   "outputs": [],
   "source": [
    "#import dependencies\n",
    "import pandas as pd\n",
    "import matplotlib.pyplot as plt\n",
    "import numpy as np\n",
    "import requests\n",
    "from citipy import citipy\n",
    "from config import weather_api_key\n",
    "import time\n",
    "from datetime import datetime"
   ]
  },
  {
   "cell_type": "code",
   "execution_count": 8,
   "id": "ad29b0d5",
   "metadata": {},
   "outputs": [
    {
     "data": {
      "text/plain": [
       "<zip at 0x1d5094bac80>"
      ]
     },
     "execution_count": 8,
     "metadata": {},
     "output_type": "execute_result"
    }
   ],
   "source": [
    "#create a set of random latitude and longitude combinations\n",
    "lats = np.random.uniform(low=-90.000,high=90.000,size=1500)\n",
    "lngs = np.random.uniform(low=-180.000,high=180.000,size=1500)\n",
    "lat_lngs = zip(lats, lngs)\n",
    "lat_lngs"
   ]
  },
  {
   "cell_type": "code",
   "execution_count": 9,
   "id": "1b3fca0b",
   "metadata": {},
   "outputs": [],
   "source": [
    "#add the latitudes and longitudes to a list\n",
    "coordinates = list(lat_lngs)"
   ]
  },
  {
   "cell_type": "code",
   "execution_count": 10,
   "id": "aeb3e971",
   "metadata": {},
   "outputs": [
    {
     "data": {
      "text/plain": [
       "604"
      ]
     },
     "execution_count": 10,
     "metadata": {},
     "output_type": "execute_result"
    }
   ],
   "source": [
    "# Create a list for holding the cities.\n",
    "cities = []\n",
    "# Identify the nearest city for each latitude and longitude combination.\n",
    "for coordinate in coordinates:\n",
    "    city = citipy.nearest_city(coordinate[0], coordinate[1]).city_name\n",
    "\n",
    "    # If the city is unique, then we will add it to the cities list.\n",
    "    if city not in cities:\n",
    "        cities.append(city)\n",
    "# Print the city count to confirm sufficient count.\n",
    "len(cities)"
   ]
  },
  {
   "cell_type": "code",
   "execution_count": 11,
   "id": "bfa38000",
   "metadata": {},
   "outputs": [
    {
     "name": "stdout",
     "output_type": "stream",
     "text": [
      "Beginning Data Retrievel                                            \n",
      "--------------------------------------------------------------------\n"
     ]
    }
   ],
   "source": [
    "#create an empty list to hold the weather data\n",
    "city_data = []\n",
    "#print the beginning of the logging\n",
    "print(\"Beginning Data Retrievel                                            \")\n",
    "print(\"--------------------------------------------------------------------\")\n",
    "\n",
    "#create counters\n",
    "record_count = 1\n",
    "set_count = 1\n",
    "\n",
    "#starting URL for weather map API call\n",
    "url = \"http://api.openweathermap.org/data/2.5/weather?units=Imperial&APPID=\" + weather_api_key"
   ]
  },
  {
   "cell_type": "code",
   "execution_count": null,
   "id": "5fb40645",
   "metadata": {},
   "outputs": [
    {
     "name": "stdout",
     "output_type": "stream",
     "text": [
      "Processing Record 1 of Set 1 | nanortalik\n",
      "Processing Record 2 of Set 1 | ponta do sol\n",
      "Processing Record 3 of Set 1 | busselton\n",
      "Processing Record 4 of Set 1 | yellowknife\n",
      "Processing Record 5 of Set 1 | cape town\n",
      "Processing Record 6 of Set 1 | tura\n",
      "Processing Record 7 of Set 1 | grand river south east\n",
      "City not found. Skipping...\n",
      "Processing Record 8 of Set 1 | aquiraz\n",
      "Processing Record 9 of Set 1 | la ronge\n",
      "Processing Record 10 of Set 1 | klaksvik\n",
      "Processing Record 11 of Set 1 | jamestown\n",
      "Processing Record 12 of Set 1 | new norfolk\n",
      "Processing Record 13 of Set 1 | teeli\n",
      "Processing Record 14 of Set 1 | necochea\n",
      "Processing Record 15 of Set 1 | hofu\n",
      "Processing Record 16 of Set 1 | albany\n",
      "Processing Record 17 of Set 1 | ivdel\n",
      "Processing Record 18 of Set 1 | clyde river\n",
      "Processing Record 19 of Set 1 | bengkulu\n",
      "Processing Record 20 of Set 1 | alofi\n",
      "Processing Record 21 of Set 1 | svetlyy\n",
      "Processing Record 22 of Set 1 | thompson\n",
      "Processing Record 23 of Set 1 | ostrowiec swietokrzyski\n",
      "Processing Record 24 of Set 1 | ribeira grande\n",
      "Processing Record 25 of Set 1 | teguise\n",
      "Processing Record 26 of Set 1 | lovozero\n",
      "Processing Record 27 of Set 1 | nuuk\n",
      "Processing Record 28 of Set 1 | hithadhoo\n",
      "Processing Record 29 of Set 1 | cherskiy\n",
      "Processing Record 30 of Set 1 | hilo\n",
      "Processing Record 31 of Set 1 | mys shmidta\n",
      "City not found. Skipping...\n",
      "Processing Record 32 of Set 1 | katsuura\n",
      "Processing Record 33 of Set 1 | hermanus\n",
      "Processing Record 34 of Set 1 | ulaangom\n",
      "Processing Record 35 of Set 1 | sao miguel do araguaia\n",
      "Processing Record 36 of Set 1 | ilabaya\n",
      "Processing Record 37 of Set 1 | tabou\n",
      "Processing Record 38 of Set 1 | tumannyy\n",
      "City not found. Skipping...\n",
      "Processing Record 39 of Set 1 | lynn haven\n",
      "Processing Record 40 of Set 1 | moron\n",
      "Processing Record 41 of Set 1 | atuona\n",
      "Processing Record 42 of Set 1 | tsihombe\n",
      "City not found. Skipping...\n",
      "Processing Record 43 of Set 1 | boca do acre\n",
      "Processing Record 44 of Set 1 | port augusta\n",
      "Processing Record 45 of Set 1 | mecca\n",
      "Processing Record 46 of Set 1 | kpandu\n",
      "Processing Record 47 of Set 1 | bredasdorp\n",
      "Processing Record 48 of Set 1 | wukari\n",
      "Processing Record 49 of Set 1 | swan river\n",
      "Processing Record 50 of Set 1 | punta arenas\n",
      "Processing Record 1 of Set 2 | talnakh\n",
      "Processing Record 2 of Set 2 | oranjestad\n",
      "Processing Record 3 of Set 2 | broken hill\n",
      "Processing Record 4 of Set 2 | mahon\n",
      "Processing Record 5 of Set 2 | yabrud\n",
      "Processing Record 6 of Set 2 | kodiak\n",
      "Processing Record 7 of Set 2 | nome\n",
      "Processing Record 8 of Set 2 | georgetown\n",
      "Processing Record 9 of Set 2 | fortuna\n",
      "Processing Record 10 of Set 2 | lebanon\n",
      "Processing Record 11 of Set 2 | dikson\n",
      "Processing Record 12 of Set 2 | rikitea\n",
      "Processing Record 13 of Set 2 | kurchum\n",
      "Processing Record 14 of Set 2 | zhigansk\n",
      "Processing Record 15 of Set 2 | kavieng\n",
      "Processing Record 16 of Set 2 | airai\n",
      "Processing Record 17 of Set 2 | bambous virieux\n",
      "Processing Record 18 of Set 2 | ushuaia\n",
      "Processing Record 19 of Set 2 | faanui\n",
      "Processing Record 20 of Set 2 | belushya guba\n",
      "City not found. Skipping...\n",
      "Processing Record 21 of Set 2 | mahebourg\n",
      "Processing Record 22 of Set 2 | tuktoyaktuk\n",
      "Processing Record 23 of Set 2 | ondorhaan\n",
      "City not found. Skipping...\n",
      "Processing Record 24 of Set 2 | vaini\n",
      "Processing Record 25 of Set 2 | griffith\n",
      "Processing Record 26 of Set 2 | karratha\n",
      "Processing Record 27 of Set 2 | poya\n",
      "Processing Record 28 of Set 2 | progreso\n",
      "Processing Record 29 of Set 2 | puerto ayora\n",
      "Processing Record 30 of Set 2 | sioux lookout\n",
      "Processing Record 31 of Set 2 | taolanaro\n",
      "City not found. Skipping...\n",
      "Processing Record 32 of Set 2 | cabedelo\n",
      "Processing Record 33 of Set 2 | ajaccio\n",
      "Processing Record 34 of Set 2 | hambantota\n",
      "Processing Record 35 of Set 2 | stoyba\n",
      "City not found. Skipping...\n",
      "Processing Record 36 of Set 2 | bluff\n",
      "Processing Record 37 of Set 2 | sumbe\n",
      "Processing Record 38 of Set 2 | lar\n",
      "Processing Record 39 of Set 2 | muhos\n",
      "Processing Record 40 of Set 2 | nioki\n",
      "Processing Record 41 of Set 2 | saint george\n",
      "Processing Record 42 of Set 2 | thinadhoo\n",
      "Processing Record 43 of Set 2 | nouakchott\n",
      "Processing Record 44 of Set 2 | cidreira\n",
      "Processing Record 45 of Set 2 | port alfred\n",
      "Processing Record 46 of Set 2 | carnarvon\n",
      "Processing Record 47 of Set 2 | tinaogan\n",
      "Processing Record 48 of Set 2 | nha trang\n",
      "Processing Record 49 of Set 2 | havelock\n",
      "Processing Record 50 of Set 2 | mataura\n"
     ]
    }
   ],
   "source": [
    "#loop through all the cities in our list\n",
    "for i, city in enumerate(cities):\n",
    "    #group cities in sets of 50 for logging purposes:\n",
    "    if (i % 50 == 0 and i >= 50):\n",
    "        set_count += 1\n",
    "        record_count = 1\n",
    "        time.sleep(60)\n",
    "    #create endpoint url with each city\n",
    "    city_url = url + \"&q=\" + city.replace(\" \",\"+\")\n",
    "    #log the url, record, and set numbers and the city\n",
    "    print(f\"Processing Record {record_count} of Set {set_count} | {city}\")\n",
    "    #add 1 to the record count\n",
    "    record_count += 1\n",
    "#run an api request for each of the cities\n",
    "    try:\n",
    "        # Parse the JSON and retrieve data.\n",
    "        city_weather = requests.get(city_url).json()\n",
    "        # Parse out the needed data.\n",
    "        city_lat = city_weather[\"coord\"][\"lat\"]\n",
    "        city_lng = city_weather[\"coord\"][\"lon\"]\n",
    "        city_max_temp = city_weather[\"main\"][\"temp_max\"]\n",
    "        city_humidity = city_weather[\"main\"][\"humidity\"]\n",
    "        city_clouds = city_weather[\"clouds\"][\"all\"]\n",
    "        city_wind = city_weather[\"wind\"][\"speed\"]\n",
    "        city_country = city_weather[\"sys\"][\"country\"]\n",
    "        # Convert the date to ISO standard.\n",
    "        city_date = datetime.utcfromtimestamp(city_weather[\"dt\"]).strftime('%Y-%m-%d %H:%M:%S')\n",
    "        # Append the city information into city_data list.\n",
    "        city_data.append({\"City\": city.title(),\n",
    "                          \"Lat\": city_lat,\n",
    "                          \"Lng\": city_lng,\n",
    "                          \"Max Temp\": city_max_temp,\n",
    "                          \"Humidity\": city_humidity,\n",
    "                          \"Cloudiness\": city_clouds,\n",
    "                          \"Wind Speed\": city_wind,\n",
    "                          \"Country\": city_country,\n",
    "                          \"Date\": city_date})\n",
    "\n",
    "# If an error is experienced, skip the city.\n",
    "    except:\n",
    "        print(\"City not found. Skipping...\")\n",
    "        pass\n",
    "\n",
    "# Indicate that Data Loading is complete.\n",
    "print(\"-----------------------------\")\n",
    "print(\"Data Retrieval Complete      \")\n",
    "print(\"-----------------------------\")"
   ]
  },
  {
   "cell_type": "code",
   "execution_count": null,
   "id": "4465d604",
   "metadata": {},
   "outputs": [],
   "source": [
    "#convert the array of dictionaries to a dataframe\n",
    "city_data_df = pd.DataFrame(city_data)\n",
    "city_data_df.head(10)"
   ]
  },
  {
   "cell_type": "code",
   "execution_count": null,
   "id": "682b36a9",
   "metadata": {},
   "outputs": [],
   "source": [
    "new_column_order = [\"City\",\"Country\",\"Date\",\"Lat\",\"Lng\",\"Max Temp\",\"Humidity\",\"Cloudiness\",\"Wind Speed\"]\n",
    "city_data_df = city_data_df[new_column_order]\n",
    "city_data_df.head()"
   ]
  },
  {
   "cell_type": "code",
   "execution_count": null,
   "id": "210d331c",
   "metadata": {},
   "outputs": [],
   "source": [
    "#create the output file (CSV)\n",
    "output_data_file = \"weather_data/cities.csv\"\n",
    "#export the city_data into a csv\n",
    "city_data_df.to_csv(output_data_file,index_label=\"City=ID\")"
   ]
  },
  {
   "cell_type": "code",
   "execution_count": null,
   "id": "486056eb",
   "metadata": {},
   "outputs": [],
   "source": [
    "#extract relevant fields from the df for plotting\n",
    "lats = city_data_df[\"Lat\"]\n",
    "max_temps = city_data_df[\"Max Temp\"]\n",
    "humidity = city_data_df[\"Humidity\"]\n",
    "cloudiness = city_data_df[\"Humidity\"]\n",
    "wind_speed = city_data_df[\"Wind Speed\"]"
   ]
  },
  {
   "cell_type": "code",
   "execution_count": null,
   "id": "85e39350",
   "metadata": {},
   "outputs": [],
   "source": [
    "#import time module\n",
    "import time\n",
    "#build the scatter plot for latitude vs max temperature\n",
    "plt.scatter(lats,\n",
    "           max_temps,\n",
    "           edgecolor=\"black\",linewidths=1,marker=\"o\",\n",
    "           alpha=0.8,label=\"Cities\")\n",
    "#format graph\n",
    "plt.title(f\"City Latitude vs. Max Temperature \"+ time.strftime(\"%x\"))\n",
    "plt.ylabel(\"Max Temperature (F)\")\n",
    "plt.xlabel(\"Latitude\")\n",
    "plt.grid(True)\n",
    "#save the figure\n",
    "plt.savefig(\"weather_data/Fig1.png\")\n",
    "plt.show()"
   ]
  },
  {
   "cell_type": "code",
   "execution_count": null,
   "id": "a6fc4cb3",
   "metadata": {},
   "outputs": [],
   "source": [
    "#build the scatter plot for latitude vs humidity\n",
    "plt.scatter(lats,\n",
    "           humidity,\n",
    "           edgecolor=\"black\",linewidths=1,marker=\"o\",\n",
    "           alpha=0.8,label=\"Cities\")\n",
    "#format graph\n",
    "plt.title(f\"City Latitude vs. Humidity \"+ time.strftime(\"%x\"))\n",
    "plt.ylabel(\"Humidity (%)\")\n",
    "plt.xlabel(\"Latitude\")\n",
    "plt.grid(True)\n",
    "#save the figure\n",
    "plt.savefig(\"weather_data/Fig2.png\")\n",
    "plt.show()"
   ]
  },
  {
   "cell_type": "code",
   "execution_count": null,
   "id": "f3022c54",
   "metadata": {},
   "outputs": [],
   "source": [
    "#build the scatter plot for latitude vs cloudiness\n",
    "plt.scatter(lats,\n",
    "           cloudiness,\n",
    "           edgecolor=\"black\",linewidths=1,marker=\"o\",\n",
    "           alpha=0.8,label=\"Cities\")\n",
    "#format graph\n",
    "plt.title(f\"City Latitude vs. Cloudiness \"+ time.strftime(\"%x\"))\n",
    "plt.ylabel(\"Cloudiness (%)\")\n",
    "plt.xlabel(\"Latitude\")\n",
    "plt.grid(True)\n",
    "#save the figure\n",
    "plt.savefig(\"weather_data/Fig3.png\")\n",
    "plt.show()"
   ]
  },
  {
   "cell_type": "code",
   "execution_count": null,
   "id": "8c1c63c8",
   "metadata": {},
   "outputs": [],
   "source": [
    "#build the scatter plot for latitude vs wind speed\n",
    "plt.scatter(lats,\n",
    "           wind_speed,\n",
    "           edgecolor=\"black\",linewidths=1,marker=\"o\",\n",
    "           alpha=0.8,label=\"Cities\")\n",
    "#format graph\n",
    "plt.title(f\"City Latitude vs. Wind Speed \"+ time.strftime(\"%x\"))\n",
    "plt.ylabel(\"Wind Speed (mph)\")\n",
    "plt.xlabel(\"Latitude\")\n",
    "plt.grid(True)\n",
    "#save the figure\n",
    "plt.savefig(\"weather_data/Fig4.png\")\n",
    "plt.show()"
   ]
  },
  {
   "cell_type": "code",
   "execution_count": null,
   "id": "40931c17",
   "metadata": {},
   "outputs": [],
   "source": [
    "#import linregress\n",
    "from scipy.stats import linregress\n",
    "\n",
    "#create a function to perform linear regression on the weather data and plot a regression line and the equation with the data\n",
    "def plot_linear_regression(x_values,y_values,title,y_label,text_coordinates):\n",
    "    #run regression on hemisphere weather data\n",
    "    (slope,intercept,r_value,p_value,std_err)=linregress(x_values,y_values)\n",
    "    \n",
    "    #calculate the regression line 'y values' from the slope and intercept\n",
    "    regress_values = x_values*slope + intercept\n",
    "    #get the equation of the line\n",
    "    line_eq = \"y = \"+str(round(slope,2))+\"x + \"+str(round(intercept,2))\n",
    "    #create a scatter plot and plot the regression line\n",
    "    plt.scatter(x_values,y_values)\n",
    "    plt.plot(x_values,regress_values,\"r\")\n",
    "    #annotate the text for the line equation\n",
    "    plt.annotate(line_eq,text_coordinates,fontsize=15,color=\"red\")\n",
    "    plt.title(title)\n",
    "    plt.xlabel(\"Latitude\")\n",
    "    plt.ylabel(y_label)\n",
    "    plt.show()"
   ]
  },
  {
   "cell_type": "code",
   "execution_count": null,
   "id": "fcb83849",
   "metadata": {},
   "outputs": [],
   "source": [
    "#create northern and southern hemisphere dataframes\n",
    "northern_hemi_df = city_data_df.loc[(city_data_df[\"Lat\"]>=0)]\n",
    "southern_hemi_df = city_data_df.loc[(city_data_df[\"Lat\"]<0)]"
   ]
  },
  {
   "cell_type": "code",
   "execution_count": null,
   "id": "59498813",
   "metadata": {},
   "outputs": [],
   "source": [
    "#linear regression on the northern hemisphere (max temp)\n",
    "x_values = northern_hemi_df[\"Lat\"]\n",
    "y_values = northern_hemi_df[\"Max Temp\"]\n",
    "#call the function.\n",
    "plot_linear_regression(x_values, y_values,\n",
    "                       'Linear Regression on the Northern Hemisphere \\n for Maximum Temperature', 'Max Temp',(10,20))"
   ]
  },
  {
   "cell_type": "code",
   "execution_count": null,
   "id": "4f98d964",
   "metadata": {},
   "outputs": [],
   "source": [
    "#linear regression on the southern hemisphere (max temp)\n",
    "x_values = southern_hemi_df[\"Lat\"]\n",
    "y_values = southern_hemi_df[\"Max Temp\"]\n",
    "#call the function.\n",
    "plot_linear_regression(x_values, y_values,\n",
    "                       'Linear Regression on the Southern Hemisphere \\n for Maximum Temperature', 'Max Temp',(-50,85))"
   ]
  },
  {
   "cell_type": "code",
   "execution_count": null,
   "id": "142b2d14",
   "metadata": {},
   "outputs": [],
   "source": [
    "#linear regression on the northern hemisphere (humidity)\n",
    "x_values = northern_hemi_df[\"Lat\"]\n",
    "y_values = northern_hemi_df[\"Humidity\"]\n",
    "#call the function.\n",
    "plot_linear_regression(x_values, y_values,\n",
    "                       'Linear Regression on the Northern Hemisphere \\n for % Humidity', '% Humidity',(40,0))"
   ]
  },
  {
   "cell_type": "code",
   "execution_count": null,
   "id": "74fc83da",
   "metadata": {},
   "outputs": [],
   "source": [
    "#linear regression on the southern hemisphere (humidity)\n",
    "x_values = southern_hemi_df[\"Lat\"]\n",
    "y_values = southern_hemi_df[\"Humidity\"]\n",
    "#call the function.\n",
    "plot_linear_regression(x_values, y_values,\n",
    "                       'Linear Regression on the Southern Hemisphere \\n for % Humidity', '% Humidity',(-55,25))"
   ]
  },
  {
   "cell_type": "code",
   "execution_count": null,
   "id": "69153210",
   "metadata": {},
   "outputs": [],
   "source": [
    "#linear regression on the northern hemisphere (cloudiness)\n",
    "x_values = northern_hemi_df[\"Lat\"]\n",
    "y_values = northern_hemi_df[\"Cloudiness\"]\n",
    "#call the function.\n",
    "plot_linear_regression(x_values, y_values,\n",
    "                       'Linear Regression on the Northern Hemisphere \\n for % Cloudiness', '% Cloudiness',(30,50))"
   ]
  },
  {
   "cell_type": "code",
   "execution_count": null,
   "id": "dd62a8a3",
   "metadata": {},
   "outputs": [],
   "source": [
    "#linear regression on the southern hemisphere (cloudiness)\n",
    "x_values = southern_hemi_df[\"Lat\"]\n",
    "y_values = southern_hemi_df[\"Cloudiness\"]\n",
    "#call the function.\n",
    "plot_linear_regression(x_values, y_values,\n",
    "                       'Linear Regression on the Southern Hemisphere \\n for % Cloudiness', '% Cloudiness',(-55,65))"
   ]
  },
  {
   "cell_type": "code",
   "execution_count": null,
   "id": "269f7d31",
   "metadata": {},
   "outputs": [],
   "source": [
    "#linear regression on the northern hemisphere (wind speed)\n",
    "x_values = northern_hemi_df[\"Lat\"]\n",
    "y_values = northern_hemi_df[\"Wind Speed\"]\n",
    "#call the function.\n",
    "plot_linear_regression(x_values, y_values,\n",
    "                       'Linear Regression on the Northern Hemisphere \\n for Wind Speed', 'Wind Speed (mph)',(45,30))"
   ]
  },
  {
   "cell_type": "code",
   "execution_count": null,
   "id": "1bcc2143",
   "metadata": {},
   "outputs": [],
   "source": [
    "#linear regression on the southern hemisphere (wind speed)\n",
    "x_values = southern_hemi_df[\"Lat\"]\n",
    "y_values = southern_hemi_df[\"Wind Speed\"]\n",
    "#call the function.\n",
    "plot_linear_regression(x_values, y_values,\n",
    "                       'Linear Regression on the Southern Hemisphere \\n for Wind Speed', 'Wind Speed (mph)',(-53,20))"
   ]
  },
  {
   "cell_type": "code",
   "execution_count": null,
   "id": "2acd5a20",
   "metadata": {},
   "outputs": [],
   "source": []
  }
 ],
 "metadata": {
  "kernelspec": {
   "display_name": "Python 3 (ipykernel)",
   "language": "python",
   "name": "python3"
  },
  "language_info": {
   "codemirror_mode": {
    "name": "ipython",
    "version": 3
   },
   "file_extension": ".py",
   "mimetype": "text/x-python",
   "name": "python",
   "nbconvert_exporter": "python",
   "pygments_lexer": "ipython3",
   "version": "3.9.7"
  }
 },
 "nbformat": 4,
 "nbformat_minor": 5
}
